{
 "cells": [
  {
   "cell_type": "markdown",
   "id": "661065cb-2599-47c8-ae80-9fd419075eca",
   "metadata": {},
   "source": [
    "# <a href=\"https://pydicom.github.io\">PyDICOM<a>"
   ]
  },
  {
   "cell_type": "markdown",
   "id": "90ba1737-0c84-44d5-bdb3-6709d0f16161",
   "metadata": {},
   "source": [
    "DICOM (Digital Image and Communications in Medicine) é uma linguagem padrão de sistemas médicos."
   ]
  },
  {
   "cell_type": "markdown",
   "id": "54da1fc0-871f-4575-8cf9-f4ba9d5e1afb",
   "metadata": {},
   "source": [
    "## Leitura \n",
    "(Obs: nos arquivos do novo envio os arquivos estão sem extensão .dcm, acrescentei manualmente em uns para teste)"
   ]
  },
  {
   "cell_type": "code",
   "execution_count": null,
   "id": "de9a0c8a-bd66-4763-ab99-fd37468f22d5",
   "metadata": {},
   "outputs": [],
   "source": [
    "# !pip install pydicom\n",
    "import pydicom\n",
    "\n",
    "dcm_data = "
   ]
  }
 ],
 "metadata": {
  "kernelspec": {
   "display_name": "Python 3 (ipykernel)",
   "language": "python",
   "name": "python3"
  },
  "language_info": {
   "codemirror_mode": {
    "name": "ipython",
    "version": 3
   },
   "file_extension": ".py",
   "mimetype": "text/x-python",
   "name": "python",
   "nbconvert_exporter": "python",
   "pygments_lexer": "ipython3",
   "version": "3.9.12"
  }
 },
 "nbformat": 4,
 "nbformat_minor": 5
}
